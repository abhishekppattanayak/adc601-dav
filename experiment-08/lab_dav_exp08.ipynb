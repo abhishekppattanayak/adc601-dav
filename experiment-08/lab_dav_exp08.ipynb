{
  "nbformat": 4,
  "nbformat_minor": 0,
  "metadata": {
    "colab": {
      "provenance": [],
      "authorship_tag": "ABX9TyNFN5ASwocoQBKJmSKSxg0B",
      "include_colab_link": true
    },
    "kernelspec": {
      "name": "python3",
      "display_name": "Python 3"
    },
    "language_info": {
      "name": "python"
    }
  },
  "cells": [
    {
      "cell_type": "markdown",
      "metadata": {
        "id": "view-in-github",
        "colab_type": "text"
      },
      "source": [
        "<a href=\"https://colab.research.google.com/github/abhishekppattanayak/adl601-dav/blob/main/experiment-08/lab_dav_exp08.ipynb\" target=\"_parent\"><img src=\"https://colab.research.google.com/assets/colab-badge.svg\" alt=\"Open In Colab\"/></a>"
      ]
    },
    {
      "cell_type": "markdown",
      "source": [
        "# **DATA ANALYTICS AND VISUALIZATION: EXP 08**"
      ],
      "metadata": {
        "id": "SQRXGAJeVDEv"
      }
    },
    {
      "cell_type": "markdown",
      "source": [
        "## **AIM:** Introduction to D3.js"
      ],
      "metadata": {
        "id": "xA3ei7CDV4Xe"
      }
    },
    {
      "cell_type": "code",
      "execution_count": 2,
      "metadata": {
        "colab": {
          "base_uri": "https://localhost:8080/",
          "height": 34
        },
        "id": "E9H9aZMiT7yv",
        "outputId": "c0c8f220-4269-4d55-b534-b249895cce39"
      },
      "outputs": [
        {
          "output_type": "display_data",
          "data": {
            "text/plain": [
              "<IPython.core.display.HTML object>"
            ],
            "text/html": [
              "<!DOCTYPE html>\n",
              "<html>\n",
              "   <head>\n",
              "      <script type = \"text/javascript\" src = \"https://d3js.org/d3.v4.min.js\"></script>\n",
              "   </head>\n",
              "\n",
              "   <body>\n",
              "      <div>\n",
              "         Hello World!\n",
              "      </div>\n",
              "\n",
              "      <script>\n",
              "         d3.select(\"div\").text(\"Abhishek\");\n",
              "      </script>\n",
              "   </body>\n",
              "</html>\n"
            ]
          },
          "metadata": {}
        }
      ],
      "source": [
        "%%html\n",
        "<!DOCTYPE html>\n",
        "<html>\n",
        "   <head>\n",
        "      <script type = \"text/javascript\" src = \"https://d3js.org/d3.v4.min.js\"></script>\n",
        "   </head>\n",
        "\n",
        "   <body>\n",
        "      <div>\n",
        "         Hello World!\n",
        "      </div>\n",
        "\n",
        "      <script>\n",
        "         d3.select(\"div\").text(\"Abhishek\");\n",
        "      </script>\n",
        "   </body>\n",
        "</html>"
      ]
    },
    {
      "cell_type": "markdown",
      "source": [
        "`select()` command in `d3.js`"
      ],
      "metadata": {
        "id": "iEE5lvLkWJ8K"
      }
    },
    {
      "cell_type": "code",
      "source": [
        "%%html\n",
        "<!DOCTYPE html>\n",
        "<html>\n",
        "   <head>\n",
        "      <script type = \"text/javascript\" src = \"https://d3js.org/d3.v4.min.js\"></script>\n",
        "   </head>\n",
        "\n",
        "   <body>\n",
        "      <div class = \"myclass\">\n",
        "        DAV experiment\n",
        "      </div>\n",
        "\n",
        "      <div class = \"myclass\">\n",
        "         Hello World!\n",
        "      </div>\n",
        "            <script>\n",
        "         d3.select(\".myclass\").text(\"Abhishek\");\n",
        "      </script>\n",
        "   </body>\n",
        "</html>"
      ],
      "metadata": {
        "colab": {
          "base_uri": "https://localhost:8080/",
          "height": 52
        },
        "id": "s3Z4-QjLWCa-",
        "outputId": "f6d756d2-307b-401f-e9c1-9ceb1aa00d4b"
      },
      "execution_count": 3,
      "outputs": [
        {
          "output_type": "display_data",
          "data": {
            "text/plain": [
              "<IPython.core.display.HTML object>"
            ],
            "text/html": [
              "<!DOCTYPE html>\n",
              "<html>\n",
              "   <head>\n",
              "      <script type = \"text/javascript\" src = \"https://d3js.org/d3.v4.min.js\"></script>\n",
              "   </head>\n",
              "\n",
              "   <body>\n",
              "      <div class = \"myclass\">\n",
              "        DAV experiment\n",
              "      </div>\n",
              "\n",
              "      <div class = \"myclass\">\n",
              "         Hello World!\n",
              "      </div>\n",
              "            <script>\n",
              "         d3.select(\".myclass\").text(\"Abhishek\");\n",
              "      </script>\n",
              "   </body>\n",
              "</html>\n"
            ]
          },
          "metadata": {}
        }
      ]
    },
    {
      "cell_type": "code",
      "source": [],
      "metadata": {
        "id": "C1Wv5MeVWJKU"
      },
      "execution_count": null,
      "outputs": []
    }
  ]
}