{
  "nbformat": 4,
  "nbformat_minor": 0,
  "metadata": {
    "colab": {
      "provenance": [],
      "authorship_tag": "ABX9TyO8drj6JDWWIIXLtGda3UGg",
      "include_colab_link": true
    },
    "kernelspec": {
      "name": "python3",
      "display_name": "Python 3"
    },
    "language_info": {
      "name": "python"
    }
  },
  "cells": [
    {
      "cell_type": "markdown",
      "metadata": {
        "id": "view-in-github",
        "colab_type": "text"
      },
      "source": [
        "<a href=\"https://colab.research.google.com/github/abhishekppattanayak/adl601-dav/blob/main/experiment-10/lab_dav_exp10.ipynb\" target=\"_parent\"><img src=\"https://colab.research.google.com/assets/colab-badge.svg\" alt=\"Open In Colab\"/></a>"
      ]
    },
    {
      "cell_type": "markdown",
      "source": [
        "# **DATA ANALYTICS AND VISUALIZATION: LAB 09**"
      ],
      "metadata": {
        "id": "HD8rZ23ieza6"
      }
    },
    {
      "cell_type": "markdown",
      "source": [
        "## **AIM:** Event Handling in d3.js"
      ],
      "metadata": {
        "id": "2iY1u_sre4CJ"
      }
    },
    {
      "cell_type": "code",
      "execution_count": 5,
      "metadata": {
        "colab": {
          "base_uri": "https://localhost:8080/",
          "height": 417
        },
        "id": "B_QSL_u3dyIb",
        "outputId": "a9015df1-73d0-474e-ad4f-778ad5ba714b"
      },
      "outputs": [
        {
          "output_type": "display_data",
          "data": {
            "text/plain": [
              "<IPython.core.display.HTML object>"
            ],
            "text/html": [
              "<body>\n",
              "  <div id=\"container\" style=\"width: 300px; height: 400px; background: white;\">\n",
              "    \n",
              "  </div>\n",
              "  <script>\n",
              "\n",
              "const container = d3.select('#container');\n",
              "let bt = document.createElement('button');\n",
              "bt.textContent = 'Click me!';\n",
              "container.appendChild(bt)\n",
              "\n",
              "bt.addEventListener('click', ()=>{\n",
              "  container.style.backgroundColor = `rgb(${r(), r(), r()})`;\n",
              "});\n",
              "\n",
              "const r = ()=>{return Math.floor(Math.random()*256};\n",
              "\n",
              "  </script>\n",
              "</body>\n"
            ]
          },
          "metadata": {}
        }
      ],
      "source": [
        "%%html\n",
        "<body>\n",
        "  <div id=\"container\" style=\"width: 300px; height: 400px; background: white;\">\n",
        "\n",
        "  </div>\n",
        "  <script>\n",
        "\n",
        "const r = ()=>{return Math.floor(Math.random()*256};\n",
        "const container = d3.select('#container');\n",
        "let bt = document.createElement('button');\n",
        "bt.textContent = 'Click me!';\n",
        "\n",
        "bt.addEventListener('click', ()=>{\n",
        "  container.style.backgroundColor = `rgb(${r(), r(), r()})`;\n",
        "});\n",
        "\n",
        "container.appendChild(bt)\n",
        "\n",
        "  </script>\n",
        "</body>"
      ]
    },
    {
      "cell_type": "code",
      "source": [],
      "metadata": {
        "id": "GQHN0h5cgm8y"
      },
      "execution_count": null,
      "outputs": []
    }
  ]
}