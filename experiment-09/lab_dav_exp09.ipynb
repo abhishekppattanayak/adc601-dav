{
  "nbformat": 4,
  "nbformat_minor": 0,
  "metadata": {
    "colab": {
      "provenance": [],
      "authorship_tag": "ABX9TyPbgJ/KMayS1knSMFxwIxF0",
      "include_colab_link": true
    },
    "kernelspec": {
      "name": "python3",
      "display_name": "Python 3"
    },
    "language_info": {
      "name": "python"
    }
  },
  "cells": [
    {
      "cell_type": "markdown",
      "metadata": {
        "id": "view-in-github",
        "colab_type": "text"
      },
      "source": [
        "<a href=\"https://colab.research.google.com/github/abhishekppattanayak/adl601-dav/blob/main/experiment-09/lab_dav_exp09.ipynb\" target=\"_parent\"><img src=\"https://colab.research.google.com/assets/colab-badge.svg\" alt=\"Open In Colab\"/></a>"
      ]
    },
    {
      "cell_type": "markdown",
      "source": [
        "# **DATA ANALYTICS AND VISUALIZATION : LAB 09**"
      ],
      "metadata": {
        "id": "Ge0JBBGwT5jO"
      }
    },
    {
      "cell_type": "markdown",
      "source": [
        "## **Aim**: Create a World Map using d3.js"
      ],
      "metadata": {
        "id": "Blq-hntjV6NV"
      }
    },
    {
      "cell_type": "markdown",
      "source": [
        "## **Task to be performed**:\n"
      ],
      "metadata": {
        "id": "Ov8ZED9IWOpn"
      }
    },
    {
      "cell_type": "markdown",
      "source": [
        "## **Code:**"
      ],
      "metadata": {
        "id": "QPZ6semLx93W"
      }
    },
    {
      "cell_type": "code",
      "source": [
        "%%html\n",
        "<!DOCTYPE html>\n",
        "<html lang=\"en\">\n",
        "<head>\n",
        "  <meta charset=\"UTF-8\">\n",
        "  <meta name=\"viewport\" content=\"width=device-width, initial-scale=1.0\">\n",
        "  <title>World Map with D3.js</title>\n",
        "  <script src=\"https://d3js.org/d3.v7.min.js\"></script>\n",
        "  <script src=\"https://d3js.org/topojson.v3.min.js\"></script>\n",
        "  <style>\n",
        "    svg {\n",
        "      background-color: #2B65EC;\n",
        "    }\n",
        "    .country {\n",
        "      fill: #90EE90;\n",
        "      stroke: #666;\n",
        "      stroke-width: 0.5;\n",
        "      cursor: pointer;\n",
        "    }\n",
        "    .country:hover {\n",
        "      fill: #FFE5B4;\n",
        "    }\n",
        "    .tooltip {\n",
        "      position: absolute;\n",
        "      background: rgba(255, 255, 255, 0.8);\n",
        "      padding: 8px;\n",
        "      border-radius: 5px;\n",
        "      pointer-events: none;\n",
        "      font-family: Arial, sans-serif;\n",
        "      font-size: 14px;\n",
        "    }\n",
        "  </style>\n",
        "</head>\n",
        "<body>\n",
        "  <div>\n",
        "    <button onclick=\"zoomIn()\">+</button>\n",
        "    <button onclick=\"zoomOut()\">-</button>\n",
        "  </div>\n",
        "  <svg width=\"960\" height=\"600\"></svg>\n",
        "  <script>\n",
        "    const svg = d3.select(\"svg\");\n",
        "    const projection = d3.geoNaturalEarth1();\n",
        "    const path = d3.geoPath().projection(projection);\n",
        "    const tooltip = d3.select(\"body\").append(\"div\")\n",
        "      .attr(\"class\", \"tooltip\")\n",
        "      .style(\"opacity\", 0);\n",
        "\n",
        "    d3.json(\"https://raw.githubusercontent.com/d3/d3.github.com/master/world-110m.v1.json\").then(function(world) {\n",
        "      svg.selectAll(\"path\")\n",
        "        .data(topojson.feature(world, world.objects.countries).features)\n",
        "        .enter().append(\"path\")\n",
        "        .attr(\"class\", \"country\")\n",
        "        .attr(\"d\", path)\n",
        "        .on(\"mouseover\", function(d) {\n",
        "          tooltip.transition()\n",
        "            .duration(200)\n",
        "            .style(\"opacity\", .9);\n",
        "          tooltip.html(d.properties.name)\n",
        "            .style(\"left\", (d3.event.pageX + 20) + \"px\")\n",
        "            .style(\"top\", (d3.event.pageY) + \"px\");\n",
        "        })\n",
        "        .on(\"mouseout\", function(d) {\n",
        "          tooltip.transition()\n",
        "            .duration(500)\n",
        "            .style(\"opacity\", 0);\n",
        "        });\n",
        "    });\n",
        "\n",
        "    function zoomIn() {\n",
        "      svg.transition().duration(750).call(zoom.scaleBy, 2);\n",
        "    }\n",
        "\n",
        "    function zoomOut() {\n",
        "      svg.transition().duration(750).call(zoom.scaleBy, 0.5);\n",
        "    }\n",
        "\n",
        "    const zoom = d3.zoom()\n",
        "      .scaleExtent([1, 8])\n",
        "      .on(\"zoom\", function(event) {\n",
        "        svg.selectAll(\"path\").attr(\"transform\", event.transform);\n",
        "      });\n",
        "\n",
        "    svg.call(zoom);\n",
        "  </script>\n",
        "</body>\n",
        "</html>"
      ],
      "metadata": {
        "colab": {
          "base_uri": "https://localhost:8080/",
          "height": 642
        },
        "id": "JHcGyxMx1Y5u",
        "outputId": "d74d1a3f-bbb2-4047-e252-d723ab29f241"
      },
      "execution_count": 1,
      "outputs": [
        {
          "output_type": "display_data",
          "data": {
            "text/plain": [
              "<IPython.core.display.HTML object>"
            ],
            "text/html": [
              "<!DOCTYPE html>\n",
              "<html lang=\"en\">\n",
              "<head>\n",
              "  <meta charset=\"UTF-8\">\n",
              "  <meta name=\"viewport\" content=\"width=device-width, initial-scale=1.0\">\n",
              "  <title>World Map with D3.js</title>\n",
              "  <script src=\"https://d3js.org/d3.v7.min.js\"></script>\n",
              "  <script src=\"https://d3js.org/topojson.v3.min.js\"></script>\n",
              "  <style>\n",
              "    svg {\n",
              "      background-color: #2B65EC;\n",
              "    }\n",
              "    .country {\n",
              "      fill: #90EE90;\n",
              "      stroke: #666;\n",
              "      stroke-width: 0.5;\n",
              "      cursor: pointer;\n",
              "    }\n",
              "    .country:hover {\n",
              "      fill: #FFE5B4;\n",
              "    }\n",
              "    .tooltip {\n",
              "      position: absolute;\n",
              "      background: rgba(255, 255, 255, 0.8);\n",
              "      padding: 8px;\n",
              "      border-radius: 5px;\n",
              "      pointer-events: none;\n",
              "      font-family: Arial, sans-serif;\n",
              "      font-size: 14px;\n",
              "    }\n",
              "  </style>\n",
              "</head>\n",
              "<body>\n",
              "  <div>\n",
              "    <button onclick=\"zoomIn()\">+</button>\n",
              "    <button onclick=\"zoomOut()\">-</button>\n",
              "  </div>\n",
              "  <svg width=\"960\" height=\"600\"></svg>\n",
              "  <script>\n",
              "    const svg = d3.select(\"svg\");\n",
              "    const projection = d3.geoNaturalEarth1();\n",
              "    const path = d3.geoPath().projection(projection);\n",
              "    const tooltip = d3.select(\"body\").append(\"div\")\n",
              "      .attr(\"class\", \"tooltip\")\n",
              "      .style(\"opacity\", 0);\n",
              "\n",
              "    d3.json(\"https://raw.githubusercontent.com/d3/d3.github.com/master/world-110m.v1.json\").then(function(world) {\n",
              "      svg.selectAll(\"path\")\n",
              "        .data(topojson.feature(world, world.objects.countries).features)\n",
              "        .enter().append(\"path\")\n",
              "        .attr(\"class\", \"country\")\n",
              "        .attr(\"d\", path)\n",
              "        .on(\"mouseover\", function(d) {\n",
              "          tooltip.transition()\n",
              "            .duration(200)\n",
              "            .style(\"opacity\", .9);\n",
              "          tooltip.html(d.properties.name)\n",
              "            .style(\"left\", (d3.event.pageX + 20) + \"px\")\n",
              "            .style(\"top\", (d3.event.pageY) + \"px\");\n",
              "        })\n",
              "        .on(\"mouseout\", function(d) {\n",
              "          tooltip.transition()\n",
              "            .duration(500)\n",
              "            .style(\"opacity\", 0);\n",
              "        });\n",
              "    });\n",
              "\n",
              "    function zoomIn() {\n",
              "      svg.transition().duration(750).call(zoom.scaleBy, 2);\n",
              "    }\n",
              "\n",
              "    function zoomOut() {\n",
              "      svg.transition().duration(750).call(zoom.scaleBy, 0.5);\n",
              "    }\n",
              "\n",
              "    const zoom = d3.zoom()\n",
              "      .scaleExtent([1, 8])\n",
              "      .on(\"zoom\", function(event) {\n",
              "        svg.selectAll(\"path\").attr(\"transform\", event.transform);\n",
              "      });\n",
              "\n",
              "    svg.call(zoom);\n",
              "  </script>\n",
              "</body>\n",
              "</html>\n"
            ]
          },
          "metadata": {}
        }
      ]
    },
    {
      "cell_type": "markdown",
      "source": [
        "## **Outcome**:"
      ],
      "metadata": {
        "id": "pwjvYKoVmaiB"
      }
    }
  ]
}